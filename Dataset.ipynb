і{
 "cells": [
{
   "cell_type": "code",
   "execution_count": 1,
   "metadata": {
    "collapsed": false,
    "hide_input": false
   },
   "outputs": [
    {
     "name": "stdout",
     "output_type": "stream",
     "text": [
      "Populating the interactive namespace from numpy and matplotlib\n"
  ]
    }
   ],
   "source": [
    "%pylab inline"
   ]
  },
  {
   "cell_type": "markdown",
   "metadata": {},
   "source": [
    "# Starmap\n",
    "\n",
    "## Data Retrieval\n",
    "\n",
    "My goal with this project was to create a star map that included the [88 modern constellations](https://en.wikipedia.org/wiki/88_modern_constellations). Each Constellation is made up of dozens of individual stars, each star has a name, [right ascension](https://en.wikipedia.org/wiki/Right_ascension), [declination](https://en.wikipedia.org/wiki/Declination), and [apparent magnitude](https://en.wikipedia.org/wiki/Apparent_magnitude).\n",
    "\n",
    "I decided to scrape this information off of wikipedia and put it in a pandas `DataFrame` before processing it further."
   ]
  },
  {
   "cell_type": "code",
   "execution_count": 2,
   "metadata": {
    "collapsed": false
   },
   "outputs": [],
   "source": [
    "import requests\n",
    "from bs4 import BeautifulSoup\n",
    "\n",
    "wiki = 'https://en.wikipedia.org/wiki/Lists_of_stars_by_constellation'\n",
    "header = {'User-Agent': 'Mozilla/5.0'}\n",
    "\n",
    "page = requests.get(wiki, headers=header).text\n",
    "soup = BeautifulSoup(page, 'html.parser')\n",
    "\n",
    "stars = []\n",
    "\n",
    "for constellation in soup.table.find_all('a'):\n",
    "    page = requests.get('https://en.wikipedia.org' + constellation.attrs['href'], headers=header).text\n",
    "    starsoup = BeautifulSoup(page, 'html.parser')\n",
    "\n",
    "    titles = list(x.attrs['title'].lower() for x in starsoup.table('tr')[0](title=True))\n",
    "    \n",
    "    namecol = 0\n",
    "    racol = titles.index('right ascension')\n",
    "    deccol = titles.index('declination')\n",
    "    amcol = titles.index('apparent magnitude')\n",
    "            \n",
    "    for star in starsoup.table('tr')[1:-3]:\n",
    "        row = star('td')\n",
    "\n",
    "        try:\n",
    "            name = row[namecol].a['title']\n",
    "        except (TypeError, KeyError):\n",
    "            name = ''\n",
    "            \n",
    "        right_ascension = row[racol].text\n",
    "        declination = row[deccol].text\n",
    "        apparent_magnitude = row[amcol].text\n",
    "        parent_constellation = constellation.string\n",
    "\n",
    "        stars.append([name, right_ascension, declination, apparent_magnitude, parent_constellation])"
   ]
  },
  {
   "cell_type": "markdown",
   "metadata": {},
   "source": [
    "# Starmap\n",
    "\n",
    "## Data Retrieval\n",
    "\n",
    "My goal with this project was to create a star map that included the [88 modern constellations](https://en.wikipedia.org/wiki/88_modern_constellations). Each Constellation is made up of dozens of individual stars, each star has a name, [right ascension](https://en.wikipedia.org/wiki/Right_ascension), [declination](https://en.wikipedia.org/wiki/Declination), and [apparent magnitude](https://en.wikipedia.org/wiki/Apparent_magnitude).\n",
    "\n",
    "I decided to scrape this information off of wikipedia and put it in a pandas `DataFrame` before processing it further."
   ]
  },
  {
   "cell_type": "code",
   "execution_count": 2,
   "metadata": {
    "collapsed": false
   },
   "outputs": [],
   "source": [

