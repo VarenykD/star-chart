і{
 "cells": [
{
   "cell_type": "code",
   "execution_count": 1,
   "metadata": {
    "collapsed": false,
    "hide_input": false
   },
   "outputs": [
    {
     "name": "stdout",
     "output_type": "stream",
     "text": [
      "Populating the interactive namespace from numpy and matplotlib\n"
  ]
    }
   ],
   "source": [
    "%pylab inline"
   ]
  },
  {
   "cell_type": "markdown",
   "metadata": {},
   "source": [
    "# Starmap\n",
    "\n",
    "## Data Retrieval\n",
    "\n",
    "My goal with this project was to create a star map that included the [88 modern constellations](https://en.wikipedia.org/wiki/88_modern_constellations). Each Constellation is made up of dozens of individual stars, each star has a name, [right ascension](https://en.wikipedia.org/wiki/Right_ascension), [declination](https://en.wikipedia.org/wiki/Declination), and [apparent magnitude](https://en.wikipedia.org/wiki/Apparent_magnitude).\n",
    "\n",
    "I decided to scrape this information off of wikipedia and put it in a pandas `DataFrame` before processing it further."
   ]
  },
  {
   "cell_type": "code",
   "execution_count": 2,
   "metadata": {
    "collapsed": false
   },
   "outputs": [],
   "source": [
